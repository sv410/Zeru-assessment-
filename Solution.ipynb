{
  "nbformat": 4,
  "nbformat_minor": 0,
  "metadata": {
    "colab": {
      "provenance": []
    },
    "kernelspec": {
      "name": "python3",
      "display_name": "Python 3"
    },
    "language_info": {
      "name": "python"
    }
  },
  "cells": [
    {
      "cell_type": "code",
      "execution_count": null,
      "metadata": {
        "colab": {
          "base_uri": "https://localhost:8080/",
          "height": 160
        },
        "id": "_LQLgI-wBPsX",
        "outputId": "1f462559-20b4-4a4f-c7b1-c360183055dd"
      },
      "outputs": [
        {
          "output_type": "display_data",
          "data": {
            "text/plain": [
              "<IPython.core.display.HTML object>"
            ],
            "text/html": [
              "\n",
              "     <input type=\"file\" id=\"files-c46381bd-29ac-4bf6-a281-3e53af428b1e\" name=\"files[]\" multiple disabled\n",
              "        style=\"border:none\" />\n",
              "     <output id=\"result-c46381bd-29ac-4bf6-a281-3e53af428b1e\">\n",
              "      Upload widget is only available when the cell has been executed in the\n",
              "      current browser session. Please rerun this cell to enable.\n",
              "      </output>\n",
              "      <script>// Copyright 2017 Google LLC\n",
              "//\n",
              "// Licensed under the Apache License, Version 2.0 (the \"License\");\n",
              "// you may not use this file except in compliance with the License.\n",
              "// You may obtain a copy of the License at\n",
              "//\n",
              "//      http://www.apache.org/licenses/LICENSE-2.0\n",
              "//\n",
              "// Unless required by applicable law or agreed to in writing, software\n",
              "// distributed under the License is distributed on an \"AS IS\" BASIS,\n",
              "// WITHOUT WARRANTIES OR CONDITIONS OF ANY KIND, either express or implied.\n",
              "// See the License for the specific language governing permissions and\n",
              "// limitations under the License.\n",
              "\n",
              "/**\n",
              " * @fileoverview Helpers for google.colab Python module.\n",
              " */\n",
              "(function(scope) {\n",
              "function span(text, styleAttributes = {}) {\n",
              "  const element = document.createElement('span');\n",
              "  element.textContent = text;\n",
              "  for (const key of Object.keys(styleAttributes)) {\n",
              "    element.style[key] = styleAttributes[key];\n",
              "  }\n",
              "  return element;\n",
              "}\n",
              "\n",
              "// Max number of bytes which will be uploaded at a time.\n",
              "const MAX_PAYLOAD_SIZE = 100 * 1024;\n",
              "\n",
              "function _uploadFiles(inputId, outputId) {\n",
              "  const steps = uploadFilesStep(inputId, outputId);\n",
              "  const outputElement = document.getElementById(outputId);\n",
              "  // Cache steps on the outputElement to make it available for the next call\n",
              "  // to uploadFilesContinue from Python.\n",
              "  outputElement.steps = steps;\n",
              "\n",
              "  return _uploadFilesContinue(outputId);\n",
              "}\n",
              "\n",
              "// This is roughly an async generator (not supported in the browser yet),\n",
              "// where there are multiple asynchronous steps and the Python side is going\n",
              "// to poll for completion of each step.\n",
              "// This uses a Promise to block the python side on completion of each step,\n",
              "// then passes the result of the previous step as the input to the next step.\n",
              "function _uploadFilesContinue(outputId) {\n",
              "  const outputElement = document.getElementById(outputId);\n",
              "  const steps = outputElement.steps;\n",
              "\n",
              "  const next = steps.next(outputElement.lastPromiseValue);\n",
              "  return Promise.resolve(next.value.promise).then((value) => {\n",
              "    // Cache the last promise value to make it available to the next\n",
              "    // step of the generator.\n",
              "    outputElement.lastPromiseValue = value;\n",
              "    return next.value.response;\n",
              "  });\n",
              "}\n",
              "\n",
              "/**\n",
              " * Generator function which is called between each async step of the upload\n",
              " * process.\n",
              " * @param {string} inputId Element ID of the input file picker element.\n",
              " * @param {string} outputId Element ID of the output display.\n",
              " * @return {!Iterable<!Object>} Iterable of next steps.\n",
              " */\n",
              "function* uploadFilesStep(inputId, outputId) {\n",
              "  const inputElement = document.getElementById(inputId);\n",
              "  inputElement.disabled = false;\n",
              "\n",
              "  const outputElement = document.getElementById(outputId);\n",
              "  outputElement.innerHTML = '';\n",
              "\n",
              "  const pickedPromise = new Promise((resolve) => {\n",
              "    inputElement.addEventListener('change', (e) => {\n",
              "      resolve(e.target.files);\n",
              "    });\n",
              "  });\n",
              "\n",
              "  const cancel = document.createElement('button');\n",
              "  inputElement.parentElement.appendChild(cancel);\n",
              "  cancel.textContent = 'Cancel upload';\n",
              "  const cancelPromise = new Promise((resolve) => {\n",
              "    cancel.onclick = () => {\n",
              "      resolve(null);\n",
              "    };\n",
              "  });\n",
              "\n",
              "  // Wait for the user to pick the files.\n",
              "  const files = yield {\n",
              "    promise: Promise.race([pickedPromise, cancelPromise]),\n",
              "    response: {\n",
              "      action: 'starting',\n",
              "    }\n",
              "  };\n",
              "\n",
              "  cancel.remove();\n",
              "\n",
              "  // Disable the input element since further picks are not allowed.\n",
              "  inputElement.disabled = true;\n",
              "\n",
              "  if (!files) {\n",
              "    return {\n",
              "      response: {\n",
              "        action: 'complete',\n",
              "      }\n",
              "    };\n",
              "  }\n",
              "\n",
              "  for (const file of files) {\n",
              "    const li = document.createElement('li');\n",
              "    li.append(span(file.name, {fontWeight: 'bold'}));\n",
              "    li.append(span(\n",
              "        `(${file.type || 'n/a'}) - ${file.size} bytes, ` +\n",
              "        `last modified: ${\n",
              "            file.lastModifiedDate ? file.lastModifiedDate.toLocaleDateString() :\n",
              "                                    'n/a'} - `));\n",
              "    const percent = span('0% done');\n",
              "    li.appendChild(percent);\n",
              "\n",
              "    outputElement.appendChild(li);\n",
              "\n",
              "    const fileDataPromise = new Promise((resolve) => {\n",
              "      const reader = new FileReader();\n",
              "      reader.onload = (e) => {\n",
              "        resolve(e.target.result);\n",
              "      };\n",
              "      reader.readAsArrayBuffer(file);\n",
              "    });\n",
              "    // Wait for the data to be ready.\n",
              "    let fileData = yield {\n",
              "      promise: fileDataPromise,\n",
              "      response: {\n",
              "        action: 'continue',\n",
              "      }\n",
              "    };\n",
              "\n",
              "    // Use a chunked sending to avoid message size limits. See b/62115660.\n",
              "    let position = 0;\n",
              "    do {\n",
              "      const length = Math.min(fileData.byteLength - position, MAX_PAYLOAD_SIZE);\n",
              "      const chunk = new Uint8Array(fileData, position, length);\n",
              "      position += length;\n",
              "\n",
              "      const base64 = btoa(String.fromCharCode.apply(null, chunk));\n",
              "      yield {\n",
              "        response: {\n",
              "          action: 'append',\n",
              "          file: file.name,\n",
              "          data: base64,\n",
              "        },\n",
              "      };\n",
              "\n",
              "      let percentDone = fileData.byteLength === 0 ?\n",
              "          100 :\n",
              "          Math.round((position / fileData.byteLength) * 100);\n",
              "      percent.textContent = `${percentDone}% done`;\n",
              "\n",
              "    } while (position < fileData.byteLength);\n",
              "  }\n",
              "\n",
              "  // All done.\n",
              "  yield {\n",
              "    response: {\n",
              "      action: 'complete',\n",
              "    }\n",
              "  };\n",
              "}\n",
              "\n",
              "scope.google = scope.google || {};\n",
              "scope.google.colab = scope.google.colab || {};\n",
              "scope.google.colab._files = {\n",
              "  _uploadFiles,\n",
              "  _uploadFilesContinue,\n",
              "};\n",
              "})(self);\n",
              "</script> "
            ]
          },
          "metadata": {}
        },
        {
          "output_type": "stream",
          "name": "stdout",
          "text": [
            "Saving compoundV2_transactions_ethereum_chunk_2.json to compoundV2_transactions_ethereum_chunk_2.json\n",
            "Saving compoundV2_transactions_ethereum_chunk_0.json to compoundV2_transactions_ethereum_chunk_0.json\n",
            "Saving compoundV2_transactions_ethereum_chunk_1.json to compoundV2_transactions_ethereum_chunk_1.json\n",
            "✅ All files moved to /compound_v2_raw\n"
          ]
        }
      ],
      "source": [
        "#Upload Compound V2 JSON files\n",
        "from google.colab import files\n",
        "import os\n",
        "\n",
        "uploaded = files.upload()  # Upload all compound*.json files\n",
        "os.makedirs(\"compound_v2_raw\", exist_ok=True)\n",
        "\n",
        "# Move uploaded files to a dedicated folder\n",
        "for name in uploaded.keys():\n",
        "    os.rename(name, f\"compound_v2_raw/{name}\")\n",
        "print(\"✅ All files moved to /compound_v2_raw\")\n"
      ]
    },
    {
      "cell_type": "code",
      "source": [
        "#Load and flatten transactions from all JSON files\n",
        "import json\n",
        "import pandas as pd\n",
        "import numpy as np\n",
        "from glob import glob\n",
        "from datetime import datetime\n",
        "\n",
        "json_folder = \"compound_v2_raw\"\n",
        "json_files = glob(os.path.join(json_folder, \"*.json\"))\n",
        "print(f\"🔍 Found {len(json_files)} JSON files.\")\n",
        "\n",
        "if not json_files:\n",
        "    raise FileNotFoundError(\"❌ No JSON files found. Please upload them first.\")\n",
        "\n",
        "records = []\n",
        "for path in json_files:\n",
        "    with open(path, \"r\", encoding=\"utf-8\") as f:\n",
        "        try:\n",
        "            data = json.load(f)\n",
        "            for action_type in [\"deposits\", \"borrows\", \"repays\", \"withdraws\", \"liquidations\"]:\n",
        "                for entry in data.get(action_type, []):\n",
        "                    records.append({\n",
        "                        \"wallet\": entry.get(\"account\", {}).get(\"id\", None),\n",
        "                        \"action\": action_type[:-1],\n",
        "                        \"amount\": float(entry.get(\"amountUSD\", 0)),\n",
        "                        \"timestamp\": pd.to_datetime(int(entry.get(\"timestamp\", 0)), unit=\"s\", errors=\"coerce\")\n",
        "                    })\n",
        "        except Exception as e:\n",
        "            print(f\"⚠️ Skipped {path}: {e}\")\n",
        "\n",
        "df = pd.DataFrame(records)\n",
        "df.dropna(subset=[\"wallet\", \"timestamp\"], inplace=True)\n",
        "print(f\"✅ Loaded {len(df)} normalized transactions.\")\n"
      ],
      "metadata": {
        "colab": {
          "base_uri": "https://localhost:8080/"
        },
        "id": "YvAZ46WoEECZ",
        "outputId": "d585fa50-75cd-47ff-b13b-92fd79d0ece6"
      },
      "execution_count": null,
      "outputs": [
        {
          "output_type": "stream",
          "name": "stdout",
          "text": [
            "🔍 Found 3 JSON files.\n",
            "✅ Loaded 120000 normalized transactions.\n"
          ]
        }
      ]
    },
    {
      "cell_type": "code",
      "source": [
        "#Extract wallet-level behavioral features\n",
        "features = []\n",
        "wallets = df['wallet'].unique()\n",
        "\n",
        "for wallet in wallets:\n",
        "    w_df = df[df['wallet'] == wallet]\n",
        "    total_txns = len(w_df)\n",
        "    actions = w_df['action'].value_counts().to_dict()\n",
        "\n",
        "    deposit_amt = w_df[w_df['action'] == 'deposit']['amount'].sum()\n",
        "    borrow_amt = w_df[w_df['action'] == 'borrow']['amount'].sum()\n",
        "    repay_amt = w_df[w_df['action'] == 'repay']['amount'].sum()\n",
        "    withdraw_amt = w_df[w_df['action'] == 'withdraw']['amount'].sum()\n",
        "    liquidations = actions.get('liquidation', 0)\n",
        "\n",
        "    repay_ratio = repay_amt / borrow_amt if borrow_amt > 0 else 0\n",
        "    deposit_borrow_ratio = deposit_amt / borrow_amt if borrow_amt > 0 else 0\n",
        "    net_change = deposit_amt - withdraw_amt\n",
        "    days_active = (w_df['timestamp'].max() - w_df['timestamp'].min()).days + 1\n",
        "    txn_frequency = total_txns / days_active if days_active > 0 else 0\n",
        "\n",
        "    features.append({\n",
        "        'wallet': wallet,\n",
        "        'total_txns': total_txns,\n",
        "        'deposit_amt': deposit_amt,\n",
        "        'borrow_amt': borrow_amt,\n",
        "        'repay_amt': repay_amt,\n",
        "        'withdraw_amt': withdraw_amt,\n",
        "        'repay_ratio': repay_ratio,\n",
        "        'deposit_borrow_ratio': deposit_borrow_ratio,\n",
        "        'net_change': net_change,\n",
        "        'liquidations': liquidations,\n",
        "        'txn_frequency': txn_frequency\n",
        "    })\n",
        "\n",
        "wallet_df = pd.DataFrame(features)\n"
      ],
      "metadata": {
        "id": "9FtOgdcbESjQ"
      },
      "execution_count": null,
      "outputs": []
    },
    {
      "cell_type": "code",
      "source": [
        "#Normalize features and compute credit score\n",
        "def normalize(series):\n",
        "    return (series - series.min()) / (series.max() - series.min() + 1e-9)\n",
        "\n",
        "wallet_df['score'] = (\n",
        "    normalize(wallet_df['repay_ratio']) * 0.4 +\n",
        "    normalize(wallet_df['deposit_borrow_ratio']) * 0.2 +\n",
        "    normalize(wallet_df['txn_frequency']) * 0.15 +\n",
        "    normalize(wallet_df['net_change']) * 0.15 +\n",
        "    (1 - normalize(wallet_df['liquidations'])) * 0.1\n",
        ") * 100\n",
        "\n",
        "wallet_df['score'] = wallet_df['score'].round(2)\n",
        "wallet_df = wallet_df.sort_values(by='score', ascending=False)\n"
      ],
      "metadata": {
        "id": "fKYEgjWTFv4X"
      },
      "execution_count": null,
      "outputs": []
    },
    {
      "cell_type": "code",
      "source": [
        "#Save top 1000 scores to CSV\n",
        "top_1000 = wallet_df[['wallet', 'score']].head(1000)\n",
        "top_1000.to_csv(\"top_1000_wallet_scores.csv\", index=False)\n",
        "print(\"📁 Saved: top_1000_wallet_scores.csv\")\n",
        "\n",
        "# 🔽 Step 6: Download CSV to your local machine\n",
        "from google.colab import files\n",
        "files.download(\"top_1000_wallet_scores.csv\")\n"
      ],
      "metadata": {
        "colab": {
          "base_uri": "https://localhost:8080/",
          "height": 34
        },
        "id": "arXVvZzBF2Y_",
        "outputId": "5fafaf80-1ec2-49ff-999b-d1654762ebaf"
      },
      "execution_count": null,
      "outputs": [
        {
          "output_type": "stream",
          "name": "stdout",
          "text": [
            "📁 Saved: top_1000_wallet_scores.csv\n"
          ]
        },
        {
          "output_type": "display_data",
          "data": {
            "text/plain": [
              "<IPython.core.display.Javascript object>"
            ],
            "application/javascript": [
              "\n",
              "    async function download(id, filename, size) {\n",
              "      if (!google.colab.kernel.accessAllowed) {\n",
              "        return;\n",
              "      }\n",
              "      const div = document.createElement('div');\n",
              "      const label = document.createElement('label');\n",
              "      label.textContent = `Downloading \"${filename}\": `;\n",
              "      div.appendChild(label);\n",
              "      const progress = document.createElement('progress');\n",
              "      progress.max = size;\n",
              "      div.appendChild(progress);\n",
              "      document.body.appendChild(div);\n",
              "\n",
              "      const buffers = [];\n",
              "      let downloaded = 0;\n",
              "\n",
              "      const channel = await google.colab.kernel.comms.open(id);\n",
              "      // Send a message to notify the kernel that we're ready.\n",
              "      channel.send({})\n",
              "\n",
              "      for await (const message of channel.messages) {\n",
              "        // Send a message to notify the kernel that we're ready.\n",
              "        channel.send({})\n",
              "        if (message.buffers) {\n",
              "          for (const buffer of message.buffers) {\n",
              "            buffers.push(buffer);\n",
              "            downloaded += buffer.byteLength;\n",
              "            progress.value = downloaded;\n",
              "          }\n",
              "        }\n",
              "      }\n",
              "      const blob = new Blob(buffers, {type: 'application/binary'});\n",
              "      const a = document.createElement('a');\n",
              "      a.href = window.URL.createObjectURL(blob);\n",
              "      a.download = filename;\n",
              "      div.appendChild(a);\n",
              "      a.click();\n",
              "      div.remove();\n",
              "    }\n",
              "  "
            ]
          },
          "metadata": {}
        },
        {
          "output_type": "display_data",
          "data": {
            "text/plain": [
              "<IPython.core.display.Javascript object>"
            ],
            "application/javascript": [
              "download(\"download_8845cc6a-1cb9-4e3a-96f8-cdbc05b25489\", \"top_1000_wallet_scores.csv\", 48977)"
            ]
          },
          "metadata": {}
        }
      ]
    },
    {
      "cell_type": "code",
      "source": [
        "#Display wallet summaries for 1-pager\n",
        "print(\"\\n🟢 Top 5 High-Scoring Wallets:\")\n",
        "print(wallet_df[['wallet', 'score', 'repay_ratio', 'liquidations']].head(5))\n",
        "\n",
        "print(\"\\n🔴 Bottom 5 Low-Scoring Wallets:\")\n",
        "print(wallet_df[['wallet', 'score', 'repay_ratio', 'liquidations']].tail(5))\n"
      ],
      "metadata": {
        "colab": {
          "base_uri": "https://localhost:8080/"
        },
        "id": "CTN_eoltF71x",
        "outputId": "8694ff5d-8b01-4bb6-8360-fa66390add05"
      },
      "execution_count": null,
      "outputs": [
        {
          "output_type": "stream",
          "name": "stdout",
          "text": [
            "\n",
            "🟢 Top 5 High-Scoring Wallets:\n",
            "                                           wallet  score  repay_ratio  \\\n",
            "11267  0xc57f71d926d86a2d8e36829126e2aa3db6784212  55.94   218.082163   \n",
            "1579   0x920f2f74cf3f3c04e9bf79fbe699889a3d153295  35.25     0.000000   \n",
            "4161   0xe705751e4263848613ecb13b04e398cee7d8eca5  29.17     0.538739   \n",
            "3877   0x136d9aade0fabb66dfaf7fba1d450c447d8d9d3d  29.15     0.442166   \n",
            "554    0x1e105686de9d256eb107e1c25114088076199bde  28.59     0.559520   \n",
            "\n",
            "       liquidations  \n",
            "11267             0  \n",
            "1579              0  \n",
            "4161              0  \n",
            "3877              0  \n",
            "554               0  \n",
            "\n",
            "🔴 Bottom 5 Low-Scoring Wallets:\n",
            "                                           wallet  score  repay_ratio  \\\n",
            "2820   0x1cf1b39d9db93bd13b41f0d5be32b240dcd002ad  12.64     0.000000   \n",
            "2594   0x794dec90a3b9e399aad7839fa39c17a521977cdf  12.33     0.940531   \n",
            "10305  0xc9c5a0228fb686e9720ca24691e59e9410c52688  12.20     0.000000   \n",
            "11843  0xea5ee32f3a63c3fabb311c6e8c985d308a53dcc1  11.39     0.000000   \n",
            "134    0x3584ca77ba08bd8b3fe4762e60eb284e37696829  11.04     0.503148   \n",
            "\n",
            "       liquidations  \n",
            "2820              0  \n",
            "2594              0  \n",
            "10305             0  \n",
            "11843             0  \n",
            "134               0  \n"
          ]
        }
      ]
    }
  ]
}